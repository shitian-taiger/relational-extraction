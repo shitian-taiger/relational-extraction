{
 "cells": [
  {
   "cell_type": "code",
   "execution_count": 1,
   "metadata": {},
   "outputs": [],
   "source": [
    "import pandas as pd\n",
    "# QA-SRL2\n",
    "orig_dev = pd.read_json('./data/qasrl-v2/orig/dev.jsonl', lines=True)\n",
    "# Training set for Supervised_OIE\n",
    "train = pd.read_csv('./data/train.oie.conll', sep=\"\\t\", header = 0)\n"
   ]
  },
  {
   "cell_type": "code",
   "execution_count": 12,
   "metadata": {},
   "outputs": [],
   "source": [
    "# Exploratory for QA-SRL\n",
    "ids = orig_dev['sentenceId']\n",
    "tokens = orig_dev['sentenceTokens']\n",
    "entries = orig_dev['verbEntries']\n",
    "# print(ids[0])\n",
    "# print(tokens[0])\n",
    "# print(entries[0]['1']['questionLabels'])"
   ]
  },
  {
   "cell_type": "code",
   "execution_count": 5,
   "metadata": {},
   "outputs": [],
   "source": [
    "def format_label(label: str):\n",
    "    if label == 'O':\n",
    "        return label\n",
    "    else:\n",
    "        swapped = []\n",
    "        swapped.append(label.split(\"-\")[1]) # BIO Tag\n",
    "        if 'P' in label: # Semantic Role Labeler using B-V instead of B-P\n",
    "            swapped.append(\"V\")\n",
    "        else: # SRL BIO-ARGX\n",
    "            swapped.append(label.split(\"-\")[0][0] + \"RG\" + label.split(\"-\")[0][1:])\n",
    "        return \"-\".join(swapped)\n",
    "    \n",
    "sentence_indexes = train.loc[train['word_id'] == 0].index\n",
    "for i in range(len(sentence_indexes)):\n",
    "    start_index = sentence_indexes[i]\n",
    "    end_index = sentence_indexes[i + 1] - 1 if (i + 1) < len(sentence_indexes) else train.last_valid_index()\n",
    "    sentence = train.loc[start_index : end_index, :]\n",
    "    pred_ids = sentence.loc[start_index:start_index, \"pred_id\"].item()\n",
    "    pred_ids = [int(i) for i in pred_ids[1:-1].split(\", \")]\n",
    "    encoded_preds = [1 if i in pred_ids else 0 for i in range(len(sentence))]\n",
    "    encoded_pred = sentence[\"pred_id\"].tolist()\n",
    "    words = sentence[\"word\"].tolist()\n",
    "    labels = sentence[\"label\"].tolist()\n",
    "    labels = [format_label(label) for label in labels]\n",
    "#     print(labels)\n"
   ]
  },
  {
   "cell_type": "code",
   "execution_count": 1,
   "metadata": {},
   "outputs": [
    {
     "name": "stderr",
     "output_type": "stream",
     "text": [
      "/Users/taigemini/anaconda3/envs/oie/lib/python3.6/site-packages/IPython/core/interactiveshell.py:3049: DtypeWarning: Columns (4) have mixed types. Specify dtype option on import or set low_memory=False.\n",
      "  interactivity=interactivity, compiler=compiler, result=result)\n"
     ]
    }
   ],
   "source": [
    "import pandas as pd\n",
    "df = pd.read_csv('./annotated/NeuralRE_2016.txt', sep=\"\\t\", names = ['idx1', 'idx2', 'ent1', 'ent2', 'rel', 'sentence', 'end'])"
   ]
  },
  {
   "cell_type": "code",
   "execution_count": 2,
   "metadata": {},
   "outputs": [],
   "source": [
    "df = df[lambda x: x['rel'].notnull()] # Filter null\n",
    "del df[\"end\"]"
   ]
  },
  {
   "cell_type": "code",
   "execution_count": null,
   "metadata": {},
   "outputs": [],
   "source": []
  },
  {
   "cell_type": "code",
   "execution_count": 1,
   "metadata": {},
   "outputs": [
    {
     "name": "stdout",
     "output_type": "stream",
     "text": [
      "1\n",
      "   sentence_id    sentence  valid_keys  invalid_keys\n",
      "0            1  1,2,345,44        3434          4445\n",
      "Empty DataFrame\n",
      "Columns: [instance_id, entity1, entity2, rel]\n",
      "Index: []\n",
      "Empty DataFrame\n",
      "Columns: [instance_id, entity1, entity2, rel]\n",
      "Index: []\n"
     ]
    }
   ],
   "source": [
    "import sqlite3\n",
    "import pandas as pd\n",
    "# Create your connection.\n",
    "cnx = sqlite3.connect('./data/store.db')\n",
    "cursor = cnx.cursor()\n",
    "# print(\"INSERT INTO {} ({}, {}, {}) VALUES ({}, {}, {})\"\n",
    "#                .format(\"Sentence\", \"sentence\", \"valid_keys\", \"invalid_keys\", \"a\", \"b\", \"c\"))\n",
    "cursor.execute(\"INSERT INTO Sentence (sentence, valid_keys, invalid_keys) VALUES (\\\"1,2,345,44\\\", 3434, 4445)\")\n",
    "print(cursor.lastrowid)\n",
    "df = pd.read_sql_query(\"SELECT * FROM Sentence\", cnx)\n",
    "print(df)\n",
    "df = pd.read_sql_query(\"SELECT * FROM PositiveInstance\", cnx)\n",
    "print(df)\n",
    "df = pd.read_sql_query(\"SELECT * FROM NegativeInstance\", cnx)\n",
    "print(df)\n",
    "cnx.close()\n"
   ]
  }
 ],
 "metadata": {
  "kernelspec": {
   "display_name": "Python 3",
   "language": "python",
   "name": "python3"
  },
  "language_info": {
   "codemirror_mode": {
    "name": "ipython",
    "version": 3
   },
   "file_extension": ".py",
   "mimetype": "text/x-python",
   "name": "python",
   "nbconvert_exporter": "python",
   "pygments_lexer": "ipython3",
   "version": "3.6.8"
  }
 },
 "nbformat": 4,
 "nbformat_minor": 2
}
