{
 "cells": [
  {
   "cell_type": "code",
   "execution_count": 2,
   "metadata": {},
   "outputs": [
    {
     "name": "stderr",
     "output_type": "stream",
     "text": [
      "/Users/taigemini/anaconda3/envs/oie/lib/python3.6/site-packages/sklearn/utils/linear_assignment_.py:21: DeprecationWarning: The linear_assignment_ module is deprecated in 0.21 and will be removed from 0.23. Use scipy.optimize.linear_sum_assignment instead.\n",
      "  DeprecationWarning)\n"
     ]
    }
   ],
   "source": [
    "# This is temporary to facilitate exploration\n",
    "from allennlp.models.archival import Archive, load_archive\n",
    "from allennlp.predictors.predictor import Predictor\n",
    "\n",
    "archived_oie = load_archive(\"https://s3-us-west-2.amazonaws.com/allennlp/models/openie-model.2018-08-20.tar.gz\")\n",
    "predictor = Predictor.from_archive(archived_oie, \"open-information-extraction\")"
   ]
  },
  {
   "cell_type": "code",
   "execution_count": 5,
   "metadata": {},
   "outputs": [
    {
     "ename": "NameError",
     "evalue": "name 'Instance' is not defined",
     "output_type": "error",
     "traceback": [
      "\u001b[0;31m---------------------------------------------------------------------------\u001b[0m",
      "\u001b[0;31mNameError\u001b[0m                                 Traceback (most recent call last)",
      "\u001b[0;32m<ipython-input-5-301fb0afcdd1>\u001b[0m in \u001b[0;36m<module>\u001b[0;34m\u001b[0m\n\u001b[1;32m      8\u001b[0m     \u001b[0;32mreturn\u001b[0m \u001b[0mnlp\u001b[0m\u001b[0;34m(\u001b[0m\u001b[0msentence\u001b[0m\u001b[0;34m)\u001b[0m\u001b[0;34m\u001b[0m\u001b[0;34m\u001b[0m\u001b[0m\n\u001b[1;32m      9\u001b[0m \u001b[0;34m\u001b[0m\u001b[0m\n\u001b[0;32m---> 10\u001b[0;31m \u001b[0;32mdef\u001b[0m \u001b[0mjson_to_instance\u001b[0m\u001b[0;34m(\u001b[0m\u001b[0mjson_dict\u001b[0m\u001b[0;34m:\u001b[0m \u001b[0mDict\u001b[0m\u001b[0;34m)\u001b[0m \u001b[0;34m->\u001b[0m \u001b[0mInstance\u001b[0m\u001b[0;34m:\u001b[0m\u001b[0;34m\u001b[0m\u001b[0;34m\u001b[0m\u001b[0m\n\u001b[0m\u001b[1;32m     11\u001b[0m     \"\"\"\n\u001b[1;32m     12\u001b[0m     \u001b[0mExpects\u001b[0m \u001b[0mJSON\u001b[0m \u001b[0mthat\u001b[0m \u001b[0mlooks\u001b[0m \u001b[0mlike\u001b[0m\u001b[0;31m \u001b[0m\u001b[0;31m`\u001b[0m\u001b[0;31m`\u001b[0m\u001b[0;34m{\u001b[0m\u001b[0;34m\"sentence\"\u001b[0m\u001b[0;34m:\u001b[0m \u001b[0;34m\"...\"\u001b[0m\u001b[0;34m,\u001b[0m \u001b[0;34m\"predicate_index\"\u001b[0m\u001b[0;34m:\u001b[0m \u001b[0;34m\"...\"\u001b[0m\u001b[0;34m}\u001b[0m\u001b[0;31m`\u001b[0m\u001b[0;31m`\u001b[0m\u001b[0;34m.\u001b[0m\u001b[0;34m\u001b[0m\u001b[0;34m\u001b[0m\u001b[0m\n",
      "\u001b[0;31mNameError\u001b[0m: name 'Instance' is not defined"
     ]
    }
   ],
   "source": [
    "import spacy\n",
    "from spacy.tokenizer import Tokenizer\n",
    "nlp = spacy.load(\"en_core_web_sm\")\n",
    "\n",
    "from typing import Dict\n",
    "\n",
    "def word_tokenize(sentence: str):\n",
    "    return nlp(sentence)\n",
    "    \n",
    "def json_to_instance(json_dict: Dict) -> Instance:\n",
    "    \"\"\"\n",
    "    Expects JSON that looks like ``{\"sentence\": \"...\", \"predicate_index\": \"...\"}``.\n",
    "    Assumes sentence is tokenized, and that predicate_index points to a specific\n",
    "    predicate (word index) within the sentence, for which to produce Open IE extractions.\n",
    "    \"\"\"\n",
    "    tokens = json_dict[\"sentence\"]\n",
    "    predicate_index = int(json_dict[\"predicate_index\"])\n",
    "    verb_labels = [0 for _ in tokens]\n",
    "    verb_labels[predicate_index] = 1\n",
    "    return text_to_instance(tokens, verb_labels)\n",
    "\n",
    "def text_to_instance(tokens, verb_labels: List[int], tags=None):\n",
    "    fields: Dict[str, Field] = {}\n",
    "    text_field = TextField(tokens, token_indexers=self._token_indexers)\n",
    "    fields['tokens'] = text_field\n",
    "    fields['verb_indicator'] = SequenceLabelField(verb_label, text_field)\n",
    "\n",
    "    if all([x == 0 for x in verb_label]):\n",
    "        verb = None\n",
    "    else:\n",
    "        verb = tokens[verb_label.index(1)].text\n",
    "    metadata_dict = {\"words\": [x.text for x in tokens], \"verb\": verb}"
   ]
  },
  {
   "cell_type": "code",
   "execution_count": 6,
   "metadata": {},
   "outputs": [
    {
     "name": "stdout",
     "output_type": "stream",
     "text": [
      "Token Embedder: 97872\n",
      "Token Embedder: 100\n",
      "Verb Indicator Embedder: 2\n",
      "Verb Indicator Embedder: 100\n",
      "Concatenated torch.Size([1, 6, 200])\n",
      "Encoded torch.Size([1, 6, 300])\n",
      "Logits torch.Size([1, 6, 62])\n",
      "Reshaped log probabilities torch.Size([6, 62])\n",
      "Class probs torch.Size([1, 6, 62])\n",
      "[['B-ARG0', 'B-V', 'B-ARG1', 'I-ARG1', 'I-ARG1', 'O']]\n"
     ]
    }
   ],
   "source": [
    "import torch\n",
    "import torch.nn.functional as F\n",
    "from allennlp.data.dataset import Batch\n",
    "from allennlp.nn.util import get_text_field_mask, sequence_cross_entropy_with_logits\n",
    "\n",
    "\n",
    "tokenizer = predictor._tokenizer # WordTokenizer\n",
    "splitter = tokenizer._word_splitter # SpacyWordSplitter\n",
    "word_filter = tokenizer._word_filter # PassThroughWordFilter\n",
    "stemmer = tokenizer._word_stemmer # PassThroughWordStemmer\n",
    "\n",
    "sentence = \"Harry is married to Mary.\" # Tokenizes to Token\n",
    "tokens = word_tokenize(sentence)\n",
    "\n",
    "pred_ids = [i for (i, t) in enumerate(tokens) if t.pos_ == \"VERB\"] # List of indexes of predicates\n",
    "sent_pred_pairs = [{\"sentence\": tokens, \"predicate_index\": pred_id} for pred_id in pred_ids] # Paired\n",
    "\n",
    "instances = [predictor._json_to_instance(sent_pred_pair) for sent_pred_pair in sent_pred_pairs]\n",
    "# Each Instance: TextField, SequenceLableField, MetadataField\n",
    "\n",
    "model = predictor._model\n",
    "vocab = model.vocab\n",
    "\n",
    "dataset = Batch(instances)\n",
    "dataset.index_instances(vocab) # Index fields within Instances to pass into vocabulary embedding - Applies only to textfield\n",
    "tensor_dict = dataset.as_tensor_dict()\n",
    "\n",
    "tokens = tensor_dict[\"tokens\"] # Dict of 'tokens' tensor[indexes of words in vocab]\n",
    "verb_ind = tensor_dict[\"verb_indicator\"] # tensor[1 for verb 0 otherwise]\n",
    "meta = tensor_dict[\"metadata\"] # words and verb in text form\n",
    "\n",
    "embedder = model.text_field_embedder\n",
    "print(\"Token Embedder: %s\" % str(embedder.token_embedder_tokens.num_embeddings))\n",
    "print(\"Token Embedder: %s\" % str(embedder.token_embedder_tokens.output_dim))\n",
    "embedded_text_input = embedder(tokens) # BS - TS - 100 (Embedder shape) ------- Embedder [no. of words in vocab + 1 UNK]\n",
    "mask = get_text_field_mask(tokens) # Basically 0 for padding, 1 otherwise\n",
    "bf_embedding = model.binary_feature_embedding\n",
    "print(\"Verb Indicator Embedder: %s\" % str(bf_embedding.num_embeddings))\n",
    "print(\"Verb Indicator Embedder: %s\" % str(bf_embedding.output_dim))\n",
    "embedded_verb_indicator = bf_embedding(verb_ind)\n",
    "\n",
    "concatenated = torch.cat([embedded_text_input, embedded_verb_indicator], -1)\n",
    "print(\"Concatenated %s\" % str(concatenated.shape))\n",
    "\n",
    "encoder = model.encoder\n",
    "stacked_bdlstm = encoder._module\n",
    "encoded = encoder(concatenated, mask)\n",
    "print(\"Encoded %s\" % str(encoded.shape))\n",
    "\n",
    "tag_projection_layer = model.tag_projection_layer\n",
    "logits = tag_projection_layer(encoded)\n",
    "print(\"Logits %s\" % str(logits.shape))\n",
    "\n",
    "num_labels = model.num_classes\n",
    "reshaped_log_probs = logits.view(-1, num_labels)\n",
    "print(\"Reshaped log probabilities %s\" % str(reshaped_log_probs.shape))\n",
    "\n",
    "batch_size, sequence_length, _ = concatenated.size()\n",
    "class_probabilities = F.softmax(reshaped_log_probs, dim=-1).view([batch_size, sequence_length, num_labels])\n",
    "print(\"Class probs %s\" % str(class_probabilities.shape))\n",
    "\n",
    "output_dict = {\"logits\": logits, \"class_probabilities\": class_probabilities, \"mask\":mask}\n",
    "\n",
    "words, verbs = zip(*[(x[\"words\"], x[\"verb\"]) for x in meta])\n",
    "output_dict[\"words\"] = list(words)\n",
    "output_dict[\"verb\"] = list(verbs)\n",
    "\n",
    "tags = model.decode(output_dict)[\"tags\"] # Viterbi decoding, dump from Allen\n",
    "print(tags)\n",
    "\n"
   ]
  },
  {
   "cell_type": "code",
   "execution_count": 12,
   "metadata": {},
   "outputs": [
    {
     "name": "stdout",
     "output_type": "stream",
     "text": [
      "@@PADDING@@\n",
      "@@UNKNOWN@@\n"
     ]
    }
   ],
   "source": [
    "print(vocab.get_token_from_index(0))\n",
    "print(vocab.get_token_from_index(1))\n",
    "vocab.save_to_files(\"./test_implementation/vocab\") # Retrieve this and use"
   ]
  },
  {
   "cell_type": "code",
   "execution_count": 113,
   "metadata": {},
   "outputs": [
    {
     "name": "stdout",
     "output_type": "stream",
     "text": [
      "['B-ARG0', 'B-V', 'B-ARG1', 'I-ARG1', 'I-ARG1', 'O']\n",
      "\n"
     ]
    }
   ],
   "source": [
    "forward = model.forward_on_instance(instances[0]) # Only the tags are important (Look into this)\n",
    "print(forward[\"tags\"])\n",
    "\n",
    "sentence = \"Harry is married to Mary and has two children.\"\n",
    "predictor.predict_json({\"sentence\": sentence})\n",
    "print()"
   ]
  },
  {
   "cell_type": "code",
   "execution_count": 154,
   "metadata": {},
   "outputs": [
    {
     "name": "stdout",
     "output_type": "stream",
     "text": [
      "torch.Size([97872, 100])\n",
      "torch.Size([1800, 200])\n",
      "torch.Size([1800])\n",
      "torch.Size([1500, 300])\n",
      "torch.Size([1500])\n",
      "torch.Size([1800, 300])\n",
      "torch.Size([1800])\n",
      "torch.Size([1500, 300])\n",
      "torch.Size([1500])\n",
      "torch.Size([1800, 300])\n",
      "torch.Size([1800])\n",
      "torch.Size([1500, 300])\n",
      "torch.Size([1500])\n",
      "torch.Size([1800, 300])\n",
      "torch.Size([1800])\n",
      "torch.Size([1500, 300])\n",
      "torch.Size([1500])\n",
      "torch.Size([1800, 300])\n",
      "torch.Size([1800])\n",
      "torch.Size([1500, 300])\n",
      "torch.Size([1500])\n",
      "torch.Size([1800, 300])\n",
      "torch.Size([1800])\n",
      "torch.Size([1500, 300])\n",
      "torch.Size([1500])\n",
      "torch.Size([1800, 300])\n",
      "torch.Size([1800])\n",
      "torch.Size([1500, 300])\n",
      "torch.Size([1500])\n",
      "torch.Size([1800, 300])\n",
      "torch.Size([1800])\n",
      "torch.Size([1500, 300])\n",
      "torch.Size([1500])\n",
      "torch.Size([2, 100])\n",
      "torch.Size([62, 300])\n",
      "torch.Size([62])\n"
     ]
    }
   ],
   "source": [
    "oie_model = oie._model\n",
    "for parameter in oie_model.parameters():\n",
    "    print(parameter.shape)"
   ]
  }
 ],
 "metadata": {
  "kernelspec": {
   "display_name": "Python 3",
   "language": "python",
   "name": "python3"
  },
  "language_info": {
   "codemirror_mode": {
    "name": "ipython",
    "version": 3
   },
   "file_extension": ".py",
   "mimetype": "text/x-python",
   "name": "python",
   "nbconvert_exporter": "python",
   "pygments_lexer": "ipython3",
   "version": "3.6.8"
  }
 },
 "nbformat": 4,
 "nbformat_minor": 2
}
